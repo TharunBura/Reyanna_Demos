{
 "cells": [
  {
   "cell_type": "code",
   "execution_count": 1,
   "metadata": {},
   "outputs": [],
   "source": [
    "import pandas_datareader.data as web"
   ]
  },
  {
   "cell_type": "code",
   "execution_count": 2,
   "metadata": {},
   "outputs": [],
   "source": [
    "import datetime \n",
    "import matplotlib.pyplot as plt\n",
    "import numpy as np\n",
    "%matplotlib inline\n",
    "import pandas as pd"
   ]
  },
  {
   "cell_type": "code",
   "execution_count": 3,
   "metadata": {},
   "outputs": [],
   "source": [
    "start=datetime.datetime(2020,1,1)"
   ]
  },
  {
   "cell_type": "code",
   "execution_count": 4,
   "metadata": {},
   "outputs": [],
   "source": [
    "end=datetime.datetime(2020,12,31)"
   ]
  },
  {
   "cell_type": "code",
   "execution_count": 5,
   "metadata": {},
   "outputs": [],
   "source": [
    "Nifty = web.DataReader(\"^NSEI\", 'yahoo',start,end)"
   ]
  },
  {
   "cell_type": "code",
   "execution_count": 6,
   "metadata": {},
   "outputs": [
    {
     "data": {
      "text/html": [
       "<div>\n",
       "<style scoped>\n",
       "    .dataframe tbody tr th:only-of-type {\n",
       "        vertical-align: middle;\n",
       "    }\n",
       "\n",
       "    .dataframe tbody tr th {\n",
       "        vertical-align: top;\n",
       "    }\n",
       "\n",
       "    .dataframe thead th {\n",
       "        text-align: right;\n",
       "    }\n",
       "</style>\n",
       "<table border=\"1\" class=\"dataframe\">\n",
       "  <thead>\n",
       "    <tr style=\"text-align: right;\">\n",
       "      <th></th>\n",
       "      <th>High</th>\n",
       "      <th>Low</th>\n",
       "      <th>Open</th>\n",
       "      <th>Close</th>\n",
       "      <th>Volume</th>\n",
       "      <th>Adj Close</th>\n",
       "    </tr>\n",
       "    <tr>\n",
       "      <th>Date</th>\n",
       "      <th></th>\n",
       "      <th></th>\n",
       "      <th></th>\n",
       "      <th></th>\n",
       "      <th></th>\n",
       "      <th></th>\n",
       "    </tr>\n",
       "  </thead>\n",
       "  <tbody>\n",
       "    <tr>\n",
       "      <th>2020-01-01</th>\n",
       "      <td>12222.200195</td>\n",
       "      <td>12165.299805</td>\n",
       "      <td>12202.150391</td>\n",
       "      <td>12182.500000</td>\n",
       "      <td>304100.0</td>\n",
       "      <td>12182.500000</td>\n",
       "    </tr>\n",
       "    <tr>\n",
       "      <th>2020-01-02</th>\n",
       "      <td>12289.900391</td>\n",
       "      <td>12195.250000</td>\n",
       "      <td>12198.549805</td>\n",
       "      <td>12282.200195</td>\n",
       "      <td>407700.0</td>\n",
       "      <td>12282.200195</td>\n",
       "    </tr>\n",
       "    <tr>\n",
       "      <th>2020-01-03</th>\n",
       "      <td>12265.599609</td>\n",
       "      <td>12191.349609</td>\n",
       "      <td>12261.099609</td>\n",
       "      <td>12226.650391</td>\n",
       "      <td>428800.0</td>\n",
       "      <td>12226.650391</td>\n",
       "    </tr>\n",
       "    <tr>\n",
       "      <th>2020-01-06</th>\n",
       "      <td>12179.099609</td>\n",
       "      <td>11974.200195</td>\n",
       "      <td>12170.599609</td>\n",
       "      <td>11993.049805</td>\n",
       "      <td>396500.0</td>\n",
       "      <td>11993.049805</td>\n",
       "    </tr>\n",
       "    <tr>\n",
       "      <th>2020-01-07</th>\n",
       "      <td>12152.150391</td>\n",
       "      <td>12005.349609</td>\n",
       "      <td>12079.099609</td>\n",
       "      <td>12052.950195</td>\n",
       "      <td>447800.0</td>\n",
       "      <td>12052.950195</td>\n",
       "    </tr>\n",
       "  </tbody>\n",
       "</table>\n",
       "</div>"
      ],
      "text/plain": [
       "                    High           Low          Open         Close    Volume  \\\n",
       "Date                                                                           \n",
       "2020-01-01  12222.200195  12165.299805  12202.150391  12182.500000  304100.0   \n",
       "2020-01-02  12289.900391  12195.250000  12198.549805  12282.200195  407700.0   \n",
       "2020-01-03  12265.599609  12191.349609  12261.099609  12226.650391  428800.0   \n",
       "2020-01-06  12179.099609  11974.200195  12170.599609  11993.049805  396500.0   \n",
       "2020-01-07  12152.150391  12005.349609  12079.099609  12052.950195  447800.0   \n",
       "\n",
       "               Adj Close  \n",
       "Date                      \n",
       "2020-01-01  12182.500000  \n",
       "2020-01-02  12282.200195  \n",
       "2020-01-03  12226.650391  \n",
       "2020-01-06  11993.049805  \n",
       "2020-01-07  12052.950195  "
      ]
     },
     "execution_count": 6,
     "metadata": {},
     "output_type": "execute_result"
    }
   ],
   "source": [
    "Nifty.head()"
   ]
  },
  {
   "cell_type": "code",
   "execution_count": 7,
   "metadata": {},
   "outputs": [
    {
     "data": {
      "image/png": "[encoded data removed]",
      "text/plain": [
       "<Figure size 432x288 with 1 Axes>"
      ]
     },
     "metadata": {
      "needs_background": "light"
     },
     "output_type": "display_data"
    }
   ],
   "source": [
    "Nifty['Adj Close'].plot(label=\"Nifty 50\")\n",
    "plt.show()"
   ]
  },
  {
   "cell_type": "code",
   "execution_count": 8,
   "metadata": {},
   "outputs": [],
   "source": [
    "BankNifty = web.DataReader(\"^NSEBANK\", 'yahoo',start,end)"
   ]
  },
  {
   "cell_type": "code",
   "execution_count": 9,
   "metadata": {},
   "outputs": [
    {
     "data": {
      "text/html": [
       "<div>\n",
       "<style scoped>\n",
       "    .dataframe tbody tr th:only-of-type {\n",
       "        vertical-align: middle;\n",
       "    }\n",
       "\n",
       "    .dataframe tbody tr th {\n",
       "        vertical-align: top;\n",
       "    }\n",
       "\n",
       "    .dataframe thead th {\n",
       "        text-align: right;\n",
       "    }\n",
       "</style>\n",
       "<table border=\"1\" class=\"dataframe\">\n",
       "  <thead>\n",
       "    <tr style=\"text-align: right;\">\n",
       "      <th></th>\n",
       "      <th>High</th>\n",
       "      <th>Low</th>\n",
       "      <th>Open</th>\n",
       "      <th>Close</th>\n",
       "      <th>Volume</th>\n",
       "      <th>Adj Close</th>\n",
       "    </tr>\n",
       "    <tr>\n",
       "      <th>Date</th>\n",
       "      <th></th>\n",
       "      <th></th>\n",
       "      <th></th>\n",
       "      <th></th>\n",
       "      <th></th>\n",
       "      <th></th>\n",
       "    </tr>\n",
       "  </thead>\n",
       "  <tbody>\n",
       "    <tr>\n",
       "      <th>2020-01-02</th>\n",
       "      <td>32465.449219</td>\n",
       "      <td>32121.400391</td>\n",
       "      <td>32133.150391</td>\n",
       "      <td>32443.849609</td>\n",
       "      <td>253600.0</td>\n",
       "      <td>32443.849609</td>\n",
       "    </tr>\n",
       "    <tr>\n",
       "      <th>2020-01-03</th>\n",
       "      <td>32329.800781</td>\n",
       "      <td>31960.400391</td>\n",
       "      <td>32326.949219</td>\n",
       "      <td>32069.250000</td>\n",
       "      <td>217600.0</td>\n",
       "      <td>32069.250000</td>\n",
       "    </tr>\n",
       "    <tr>\n",
       "      <th>2020-01-06</th>\n",
       "      <td>31914.449219</td>\n",
       "      <td>31170.550781</td>\n",
       "      <td>31910.449219</td>\n",
       "      <td>31237.150391</td>\n",
       "      <td>256200.0</td>\n",
       "      <td>31237.150391</td>\n",
       "    </tr>\n",
       "    <tr>\n",
       "      <th>2020-01-07</th>\n",
       "      <td>31851.449219</td>\n",
       "      <td>31200.900391</td>\n",
       "      <td>31598.050781</td>\n",
       "      <td>31399.400391</td>\n",
       "      <td>294400.0</td>\n",
       "      <td>31399.400391</td>\n",
       "    </tr>\n",
       "    <tr>\n",
       "      <th>2020-01-08</th>\n",
       "      <td>31451.849609</td>\n",
       "      <td>30899.550781</td>\n",
       "      <td>30995.500000</td>\n",
       "      <td>31373.650391</td>\n",
       "      <td>304500.0</td>\n",
       "      <td>31373.650391</td>\n",
       "    </tr>\n",
       "  </tbody>\n",
       "</table>\n",
       "</div>"
      ],
      "text/plain": [
       "                    High           Low          Open         Close    Volume  \\\n",
       "Date                                                                           \n",
       "2020-01-02  32465.449219  32121.400391  32133.150391  32443.849609  253600.0   \n",
       "2020-01-03  32329.800781  31960.400391  32326.949219  32069.250000  217600.0   \n",
       "2020-01-06  31914.449219  31170.550781  31910.449219  31237.150391  256200.0   \n",
       "2020-01-07  31851.449219  31200.900391  31598.050781  31399.400391  294400.0   \n",
       "2020-01-08  31451.849609  30899.550781  30995.500000  31373.650391  304500.0   \n",
       "\n",
       "               Adj Close  \n",
       "Date                      \n",
       "2020-01-02  32443.849609  \n",
       "2020-01-03  32069.250000  \n",
       "2020-01-06  31237.150391  \n",
       "2020-01-07  31399.400391  \n",
       "2020-01-08  31373.650391  "
      ]
     },
     "execution_count": 9,
     "metadata": {},
     "output_type": "execute_result"
    }
   ],
   "source": [
    "BankNifty.head()"
   ]
  },
  {
   "cell_type": "code",
   "execution_count": 10,
   "metadata": {},
   "outputs": [
    {
     "data": {
      "image/png": "[encoded data removed]",
      "text/plain": [
       "<Figure size 432x288 with 1 Axes>"
      ]
     },
     "metadata": {
      "needs_background": "light"
     },
     "output_type": "display_data"
    }
   ],
   "source": [
    "BankNifty['Adj Close'].plot(label=\"Bank Nifty\")\n",
    "plt.show()"
   ]
  },
  {
   "cell_type": "code",
   "execution_count": 11,
   "metadata": {},
   "outputs": [
    {
     "data": {
      "text/html": [
       "<div>\n",
       "<style scoped>\n",
       "    .dataframe tbody tr th:only-of-type {\n",
       "        vertical-align: middle;\n",
       "    }\n",
       "\n",
       "    .dataframe tbody tr th {\n",
       "        vertical-align: top;\n",
       "    }\n",
       "\n",
       "    .dataframe thead th {\n",
       "        text-align: right;\n",
       "    }\n",
       "</style>\n",
       "<table border=\"1\" class=\"dataframe\">\n",
       "  <thead>\n",
       "    <tr style=\"text-align: right;\">\n",
       "      <th></th>\n",
       "      <th>High</th>\n",
       "      <th>Low</th>\n",
       "      <th>Open</th>\n",
       "      <th>Close</th>\n",
       "      <th>Volume</th>\n",
       "      <th>Adj Close</th>\n",
       "    </tr>\n",
       "    <tr>\n",
       "      <th>Date</th>\n",
       "      <th></th>\n",
       "      <th></th>\n",
       "      <th></th>\n",
       "      <th></th>\n",
       "      <th></th>\n",
       "      <th></th>\n",
       "    </tr>\n",
       "  </thead>\n",
       "  <tbody>\n",
       "    <tr>\n",
       "      <th>2019-12-31</th>\n",
       "      <td>3231.719971</td>\n",
       "      <td>3212.030029</td>\n",
       "      <td>3215.179932</td>\n",
       "      <td>3230.780029</td>\n",
       "      <td>2893810000</td>\n",
       "      <td>3230.780029</td>\n",
       "    </tr>\n",
       "    <tr>\n",
       "      <th>2020-01-02</th>\n",
       "      <td>3258.139893</td>\n",
       "      <td>3235.530029</td>\n",
       "      <td>3244.669922</td>\n",
       "      <td>3257.850098</td>\n",
       "      <td>3458250000</td>\n",
       "      <td>3257.850098</td>\n",
       "    </tr>\n",
       "    <tr>\n",
       "      <th>2020-01-03</th>\n",
       "      <td>3246.149902</td>\n",
       "      <td>3222.340088</td>\n",
       "      <td>3226.360107</td>\n",
       "      <td>3234.850098</td>\n",
       "      <td>3461290000</td>\n",
       "      <td>3234.850098</td>\n",
       "    </tr>\n",
       "    <tr>\n",
       "      <th>2020-01-06</th>\n",
       "      <td>3246.840088</td>\n",
       "      <td>3214.639893</td>\n",
       "      <td>3217.550049</td>\n",
       "      <td>3246.280029</td>\n",
       "      <td>3674070000</td>\n",
       "      <td>3246.280029</td>\n",
       "    </tr>\n",
       "    <tr>\n",
       "      <th>2020-01-07</th>\n",
       "      <td>3244.909912</td>\n",
       "      <td>3232.429932</td>\n",
       "      <td>3241.860107</td>\n",
       "      <td>3237.179932</td>\n",
       "      <td>3420380000</td>\n",
       "      <td>3237.179932</td>\n",
       "    </tr>\n",
       "  </tbody>\n",
       "</table>\n",
       "</div>"
      ],
      "text/plain": [
       "                   High          Low         Open        Close      Volume  \\\n",
       "Date                                                                         \n",
       "2019-12-31  3231.719971  3212.030029  3215.179932  3230.780029  2893810000   \n",
       "2020-01-02  3258.139893  3235.530029  3244.669922  3257.850098  3458250000   \n",
       "2020-01-03  3246.149902  3222.340088  3226.360107  3234.850098  3461290000   \n",
       "2020-01-06  3246.840088  3214.639893  3217.550049  3246.280029  3674070000   \n",
       "2020-01-07  3244.909912  3232.429932  3241.860107  3237.179932  3420380000   \n",
       "\n",
       "              Adj Close  \n",
       "Date                     \n",
       "2019-12-31  3230.780029  \n",
       "2020-01-02  3257.850098  \n",
       "2020-01-03  3234.850098  \n",
       "2020-01-06  3246.280029  \n",
       "2020-01-07  3237.179932  "
      ]
     },
     "execution_count": 11,
     "metadata": {},
     "output_type": "execute_result"
    }
   ],
   "source": [
    "SP500 = web.DataReader(\"^GSPC\", 'yahoo',start,end)\n",
    "SP500.head()"
   ]
  },
  {
   "cell_type": "code",
   "execution_count": 12,
   "metadata": {},
   "outputs": [
    {
     "data": {
      "image/png": "[encoded data removed]",
      "text/plain": [
       "<Figure size 432x288 with 1 Axes>"
      ]
     },
     "metadata": {
      "needs_background": "light"
     },
     "output_type": "display_data"
    }
   ],
   "source": [
    "SP500['Adj Close'].plot(label=\"S&P 500\")\n",
    "plt.show()"
   ]
  },
  {
   "cell_type": "code",
   "execution_count": 13,
   "metadata": {},
   "outputs": [
    {
     "data": {
      "text/html": [
       "<div>\n",
       "<style scoped>\n",
       "    .dataframe tbody tr th:only-of-type {\n",
       "        vertical-align: middle;\n",
       "    }\n",
       "\n",
       "    .dataframe tbody tr th {\n",
       "        vertical-align: top;\n",
       "    }\n",
       "\n",
       "    .dataframe thead th {\n",
       "        text-align: right;\n",
       "    }\n",
       "</style>\n",
       "<table border=\"1\" class=\"dataframe\">\n",
       "  <thead>\n",
       "    <tr style=\"text-align: right;\">\n",
       "      <th></th>\n",
       "      <th>High</th>\n",
       "      <th>Low</th>\n",
       "      <th>Open</th>\n",
       "      <th>Close</th>\n",
       "      <th>Volume</th>\n",
       "      <th>Adj Close</th>\n",
       "    </tr>\n",
       "    <tr>\n",
       "      <th>Date</th>\n",
       "      <th></th>\n",
       "      <th></th>\n",
       "      <th></th>\n",
       "      <th></th>\n",
       "      <th></th>\n",
       "      <th></th>\n",
       "    </tr>\n",
       "  </thead>\n",
       "  <tbody>\n",
       "    <tr>\n",
       "      <th>2019-12-31</th>\n",
       "      <td>8975.360352</td>\n",
       "      <td>8912.769531</td>\n",
       "      <td>8918.740234</td>\n",
       "      <td>8972.599609</td>\n",
       "      <td>2182800000</td>\n",
       "      <td>8972.599609</td>\n",
       "    </tr>\n",
       "    <tr>\n",
       "      <th>2020-01-02</th>\n",
       "      <td>9093.429688</td>\n",
       "      <td>9010.889648</td>\n",
       "      <td>9039.459961</td>\n",
       "      <td>9092.190430</td>\n",
       "      <td>2848370000</td>\n",
       "      <td>9092.190430</td>\n",
       "    </tr>\n",
       "    <tr>\n",
       "      <th>2020-01-03</th>\n",
       "      <td>9065.759766</td>\n",
       "      <td>8976.429688</td>\n",
       "      <td>8976.429688</td>\n",
       "      <td>9020.769531</td>\n",
       "      <td>2567400000</td>\n",
       "      <td>9020.769531</td>\n",
       "    </tr>\n",
       "    <tr>\n",
       "      <th>2020-01-06</th>\n",
       "      <td>9072.410156</td>\n",
       "      <td>8943.500000</td>\n",
       "      <td>8943.500000</td>\n",
       "      <td>9071.469727</td>\n",
       "      <td>2788120000</td>\n",
       "      <td>9071.469727</td>\n",
       "    </tr>\n",
       "    <tr>\n",
       "      <th>2020-01-07</th>\n",
       "      <td>9091.929688</td>\n",
       "      <td>9042.549805</td>\n",
       "      <td>9076.639648</td>\n",
       "      <td>9068.580078</td>\n",
       "      <td>2352850000</td>\n",
       "      <td>9068.580078</td>\n",
       "    </tr>\n",
       "  </tbody>\n",
       "</table>\n",
       "</div>"
      ],
      "text/plain": [
       "                   High          Low         Open        Close      Volume  \\\n",
       "Date                                                                         \n",
       "2019-12-31  8975.360352  8912.769531  8918.740234  8972.599609  2182800000   \n",
       "2020-01-02  9093.429688  9010.889648  9039.459961  9092.190430  2848370000   \n",
       "2020-01-03  9065.759766  8976.429688  8976.429688  9020.769531  2567400000   \n",
       "2020-01-06  9072.410156  8943.500000  8943.500000  9071.469727  2788120000   \n",
       "2020-01-07  9091.929688  9042.549805  9076.639648  9068.580078  2352850000   \n",
       "\n",
       "              Adj Close  \n",
       "Date                     \n",
       "2019-12-31  8972.599609  \n",
       "2020-01-02  9092.190430  \n",
       "2020-01-03  9020.769531  \n",
       "2020-01-06  9071.469727  \n",
       "2020-01-07  9068.580078  "
      ]
     },
     "execution_count": 13,
     "metadata": {},
     "output_type": "execute_result"
    }
   ],
   "source": [
    "Nasdaq = web.DataReader(\"^IXIC\", 'yahoo',start,end)\n",
    "Nasdaq.head()"
   ]
  },
  {
   "cell_type": "code",
   "execution_count": 14,
   "metadata": {},
   "outputs": [
    {
     "data": {
      "image/png": "[encoded data removed]",
      "text/plain": [
       "<Figure size 432x288 with 1 Axes>"
      ]
     },
     "metadata": {
      "needs_background": "light"
     },
     "output_type": "display_data"
    }
   ],
   "source": [
    "Nasdaq['Adj Close'].plot(label=\"Nasdaq\")\n",
    "plt.show()"
   ]
  },
  {
   "cell_type": "code",
   "execution_count": 15,
   "metadata": {},
   "outputs": [],
   "source": [
    "def Supertrend(data):\n",
    "    data=data.reset_index(drop=True)\n",
    "    \n",
    "    data['tr0'] = abs(data[\"High\"] - data[\"Low\"])\n",
    "    data['tr1'] = abs(data[\"High\"] - data[\"Close\"].shift(1))\n",
    "    data['tr2'] = abs(data[\"Low\"]- data[\"Close\"].shift(1))\n",
    "    data[\"TR\"] = round(data[['tr0', 'tr1', 'tr2']].max(axis=1),2)\n",
    "    data[\"ATR\"]=0.00\n",
    "    data['BUB']=0.00\n",
    "    data[\"BLB\"]=0.00\n",
    "    data[\"FUB\"]=0.00\n",
    "    data[\"FLB\"]=0.00\n",
    "    data[\"ST\"]=0.00\n",
    "    \n",
    "    \n",
    "    for i, row in data.iterrows():\n",
    "        if i == 0:\n",
    "            data.loc[i,'ATR'] = 0.00#data['ATR'].iat[0]\n",
    "        else:\n",
    "            data.loc[i,'ATR'] = ((data.loc[i-1,'ATR'] * 13)+data.loc[i,'TR'])/14\n",
    "\n",
    "    data['BUB'] = round(((data[\"High\"] + data[\"Low\"]) / 2) + (2 * data[\"ATR\"]),2)\n",
    "    data['BLB'] = round(((data[\"High\"] + data[\"Low\"]) / 2) - (2 * data[\"ATR\"]),2)\n",
    "    \n",
    "\n",
    "    for i, row in data.iterrows():\n",
    "        if i==0:\n",
    "            data.loc[i,\"FUB\"]=0.00\n",
    "        else:\n",
    "            if (data.loc[i,\"BUB\"]<data.loc[i-1,\"FUB\"])|(data.loc[i-1,\"Close\"]>data.loc[i-1,\"FUB\"]):\n",
    "                data.loc[i,\"FUB\"]=data.loc[i,\"BUB\"]\n",
    "            else:\n",
    "                data.loc[i,\"FUB\"]=data.loc[i-1,\"FUB\"]\n",
    "\n",
    "    \n",
    "   \n",
    "    for i, row in data.iterrows():\n",
    "        if i==0:\n",
    "            data.loc[i,\"FLB\"]=0.00\n",
    "        else:\n",
    "            if (data.loc[i,\"BLB\"]>data.loc[i-1,\"FLB\"])|(data.loc[i-1,\"Close\"]<data.loc[i-1,\"FLB\"]):\n",
    "                data.loc[i,\"FLB\"]=data.loc[i,\"BLB\"]\n",
    "            else:\n",
    "                data.loc[i,\"FLB\"]=data.loc[i-1,\"FLB\"]\n",
    "            \n",
    "            \n",
    "            \n",
    "    for i, row in data.iterrows():\n",
    "        if i==0:\n",
    "            data.loc[i,\"ST\"]=0.00\n",
    "        elif (data.loc[i-1,\"ST\"]==data.loc[i-1,\"FUB\"]) & (data.loc[i,\"Close\"]<=data.loc[i,\"FUB\"]):\n",
    "            data.loc[i,\"ST\"]=data.loc[i,\"FUB\"]\n",
    "        elif (data.loc[i-1,\"ST\"]==data.loc[i-1,\"FUB\"])&(data.loc[i,\"Close\"]>data.loc[i,\"FUB\"]):\n",
    "            data.loc[i,\"ST\"]=data.loc[i,\"FLB\"]\n",
    "        elif (data.loc[i-1,\"ST\"]==data.loc[i-1,\"FLB\"])&(data.loc[i,\"Close\"]>=data.loc[i,\"FLB\"]):\n",
    "            data.loc[i,\"ST\"]=data.loc[i,\"FLB\"]\n",
    "        elif (data.loc[i-1,\"ST\"]==data.loc[i-1,\"FLB\"])&(data.loc[i,\"Close\"]<data.loc[i,\"FLB\"]):\n",
    "            data.loc[i,\"ST\"]=data.loc[i,\"FUB\"]\n",
    "        \n",
    "    \n",
    "    # Buy Sell Indicator\n",
    "    for i, row in data.iterrows():\n",
    "        if i==0:\n",
    "            data[\"ST_BUY_SELL\"]=\"NA\"\n",
    "        elif (data.loc[i,\"ST\"]<data.loc[i,\"Close\"]) :\n",
    "            data.loc[i,\"ST_BUY_SELL\"]=\"BUY\"\n",
    "        else:\n",
    "            data.loc[i,\"ST_BUY_SELL\"]=\"SELL\"\n",
    "    \n",
    "    \n",
    "    \n",
    "    def buy_sell(signal):\n",
    "        buy = []\n",
    "        sell = []\n",
    "        flag = -1\n",
    "\n",
    "        for i in range(0,len(signal)):\n",
    "            if signal['MACD'][i] > signal['Signal'][i]:\n",
    "                sell.append(np.nan)\n",
    "                if flag != 1:\n",
    "                    buy.append(signal['Close'][i])\n",
    "                    flag = 1\n",
    "                else:\n",
    "                    buy.append(np.nan)\n",
    "\n",
    "            elif signal['MACD'][i] < signal['Signal'][i]:\n",
    "                buy.append(np.nan)\n",
    "                if flag != 0:\n",
    "                    sell.append(signal['Close'][i])\n",
    "                    flag = 0\n",
    "                else:\n",
    "                    sell.append(np.nan)\n",
    "\n",
    "            else:\n",
    "                buy.append(np.nan)\n",
    "                sell.append(np.nan)    \n",
    "\n",
    "        return(buy,sell)       \n",
    "    \n",
    "    return data"
   ]
  },
  {
   "cell_type": "code",
   "execution_count": 25,
   "metadata": {},
   "outputs": [
    {
     "data": {
      "text/html": [
       "<div>\n",
       "<style scoped>\n",
       "    .dataframe tbody tr th:only-of-type {\n",
       "        vertical-align: middle;\n",
       "    }\n",
       "\n",
       "    .dataframe tbody tr th {\n",
       "        vertical-align: top;\n",
       "    }\n",
       "\n",
       "    .dataframe thead th {\n",
       "        text-align: right;\n",
       "    }\n",
       "</style>\n",
       "<table border=\"1\" class=\"dataframe\">\n",
       "  <thead>\n",
       "    <tr style=\"text-align: right;\">\n",
       "      <th></th>\n",
       "      <th>High</th>\n",
       "      <th>Low</th>\n",
       "      <th>Open</th>\n",
       "      <th>Close</th>\n",
       "      <th>Volume</th>\n",
       "      <th>Adj Close</th>\n",
       "      <th>tr0</th>\n",
       "      <th>tr1</th>\n",
       "      <th>tr2</th>\n",
       "      <th>TR</th>\n",
       "      <th>ATR</th>\n",
       "      <th>BUB</th>\n",
       "      <th>BLB</th>\n",
       "      <th>FUB</th>\n",
       "      <th>FLB</th>\n",
       "      <th>ST</th>\n",
       "      <th>ST_BUY_SELL</th>\n",
       "    </tr>\n",
       "  </thead>\n",
       "  <tbody>\n",
       "    <tr>\n",
       "      <th>0</th>\n",
       "      <td>12222.200195</td>\n",
       "      <td>12165.299805</td>\n",
       "      <td>12202.150391</td>\n",
       "      <td>12182.500000</td>\n",
       "      <td>304100.0</td>\n",
       "      <td>12182.500000</td>\n",
       "      <td>56.900391</td>\n",
       "      <td>NaN</td>\n",
       "      <td>NaN</td>\n",
       "      <td>56.90</td>\n",
       "      <td>0.000000</td>\n",
       "      <td>12193.75</td>\n",
       "      <td>12193.75</td>\n",
       "      <td>0.00</td>\n",
       "      <td>0.00</td>\n",
       "      <td>0.00</td>\n",
       "      <td>NA</td>\n",
       "    </tr>\n",
       "    <tr>\n",
       "      <th>1</th>\n",
       "      <td>12289.900391</td>\n",
       "      <td>12195.250000</td>\n",
       "      <td>12198.549805</td>\n",
       "      <td>12282.200195</td>\n",
       "      <td>407700.0</td>\n",
       "      <td>12282.200195</td>\n",
       "      <td>94.650391</td>\n",
       "      <td>107.400391</td>\n",
       "      <td>12.750000</td>\n",
       "      <td>107.40</td>\n",
       "      <td>7.671429</td>\n",
       "      <td>12257.92</td>\n",
       "      <td>12227.23</td>\n",
       "      <td>12257.92</td>\n",
       "      <td>12227.23</td>\n",
       "      <td>12227.23</td>\n",
       "      <td>BUY</td>\n",
       "    </tr>\n",
       "    <tr>\n",
       "      <th>2</th>\n",
       "      <td>12265.599609</td>\n",
       "      <td>12191.349609</td>\n",
       "      <td>12261.099609</td>\n",
       "      <td>12226.650391</td>\n",
       "      <td>428800.0</td>\n",
       "      <td>12226.650391</td>\n",
       "      <td>74.250000</td>\n",
       "      <td>16.600586</td>\n",
       "      <td>90.850586</td>\n",
       "      <td>90.85</td>\n",
       "      <td>13.612755</td>\n",
       "      <td>12255.70</td>\n",
       "      <td>12201.25</td>\n",
       "      <td>12255.70</td>\n",
       "      <td>12227.23</td>\n",
       "      <td>12255.70</td>\n",
       "      <td>SELL</td>\n",
       "    </tr>\n",
       "    <tr>\n",
       "      <th>3</th>\n",
       "      <td>12179.099609</td>\n",
       "      <td>11974.200195</td>\n",
       "      <td>12170.599609</td>\n",
       "      <td>11993.049805</td>\n",
       "      <td>396500.0</td>\n",
       "      <td>11993.049805</td>\n",
       "      <td>204.899414</td>\n",
       "      <td>47.550781</td>\n",
       "      <td>252.450195</td>\n",
       "      <td>252.45</td>\n",
       "      <td>30.672558</td>\n",
       "      <td>12138.00</td>\n",
       "      <td>12015.30</td>\n",
       "      <td>12138.00</td>\n",
       "      <td>12015.30</td>\n",
       "      <td>12138.00</td>\n",
       "      <td>SELL</td>\n",
       "    </tr>\n",
       "    <tr>\n",
       "      <th>4</th>\n",
       "      <td>12152.150391</td>\n",
       "      <td>12005.349609</td>\n",
       "      <td>12079.099609</td>\n",
       "      <td>12052.950195</td>\n",
       "      <td>447800.0</td>\n",
       "      <td>12052.950195</td>\n",
       "      <td>146.800781</td>\n",
       "      <td>159.100586</td>\n",
       "      <td>12.299805</td>\n",
       "      <td>159.10</td>\n",
       "      <td>39.845947</td>\n",
       "      <td>12158.44</td>\n",
       "      <td>11999.06</td>\n",
       "      <td>12138.00</td>\n",
       "      <td>11999.06</td>\n",
       "      <td>12138.00</td>\n",
       "      <td>SELL</td>\n",
       "    </tr>\n",
       "  </tbody>\n",
       "</table>\n",
       "</div>"
      ],
      "text/plain": [
       "           High           Low          Open         Close    Volume  \\\n",
       "0  12222.200195  12165.299805  12202.150391  12182.500000  304100.0   \n",
       "1  12289.900391  12195.250000  12198.549805  12282.200195  407700.0   \n",
       "2  12265.599609  12191.349609  12261.099609  12226.650391  428800.0   \n",
       "3  12179.099609  11974.200195  12170.599609  11993.049805  396500.0   \n",
       "4  12152.150391  12005.349609  12079.099609  12052.950195  447800.0   \n",
       "\n",
       "      Adj Close         tr0         tr1         tr2      TR        ATR  \\\n",
       "0  12182.500000   56.900391         NaN         NaN   56.90   0.000000   \n",
       "1  12282.200195   94.650391  107.400391   12.750000  107.40   7.671429   \n",
       "2  12226.650391   74.250000   16.600586   90.850586   90.85  13.612755   \n",
       "3  11993.049805  204.899414   47.550781  252.450195  252.45  30.672558   \n",
       "4  12052.950195  146.800781  159.100586   12.299805  159.10  39.845947   \n",
       "\n",
       "        BUB       BLB       FUB       FLB        ST ST_BUY_SELL  \n",
       "0  12193.75  12193.75      0.00      0.00      0.00          NA  \n",
       "1  12257.92  12227.23  12257.92  12227.23  12227.23         BUY  \n",
       "2  12255.70  12201.25  12255.70  12227.23  12255.70        SELL  \n",
       "3  12138.00  12015.30  12138.00  12015.30  12138.00        SELL  \n",
       "4  12158.44  11999.06  12138.00  11999.06  12138.00        SELL  "
      ]
     },
     "execution_count": 25,
     "metadata": {},
     "output_type": "execute_result"
    }
   ],
   "source": [
    "Nifty_Supertrend = Supertrend(Nifty)\n",
    "Nifty_Supertrend.head()"
   ]
  },
  {
   "cell_type": "code",
   "execution_count": 17,
   "metadata": {},
   "outputs": [],
   "source": [
    "BankNifty_Supertrend = Supertrend(BankNifty)"
   ]
  },
  {
   "cell_type": "code",
   "execution_count": 18,
   "metadata": {},
   "outputs": [],
   "source": [
    "SP500_Supertrend= Supertrend(SP500)"
   ]
  },
  {
   "cell_type": "code",
   "execution_count": 19,
   "metadata": {},
   "outputs": [],
   "source": [
    "Nasdaq_Supertrend= Supertrend(Nasdaq)"
   ]
  },
  {
   "cell_type": "code",
   "execution_count": 30,
   "metadata": {},
   "outputs": [],
   "source": [
    "def PL_Cal(data):\n",
    "    print(\"Profit for a holding stock for a year:\"+ str((data.iloc[-1][\"Adj Close\"])-(data.iloc[0][\"Adj Close\"])) )\n",
    "    \n",
    "    state_idle = False\n",
    "    net_value = 0\n",
    "    start_value = data.iloc[0]['Open']\n",
    "    end_value = start_value\n",
    "    \n",
    "    for i in range(1, len(data)):\n",
    "    #     print(data.iloc[i]['Open'], data.iloc[i]['ST_BUY_SELL'])\n",
    "\n",
    "        prev_state = data.iloc[i-1]['ST_BUY_SELL']\n",
    "        curr_state = data.iloc[i]['ST_BUY_SELL']\n",
    "\n",
    "\n",
    "        if(prev_state != curr_state):\n",
    "            state_idle = False\n",
    "        else:\n",
    "            state_idle = True\n",
    "\n",
    "        if( not state_idle):\n",
    "            if(curr_state == 'BUY'):\n",
    "                start_value = data.iloc[i]['Open']\n",
    "            else:\n",
    "                end_value = data.iloc[i]['Open']\n",
    "                net_value += end_value-start_value\n",
    "    #     print(str(start_value) + \"----->\" +str(end_value))\n",
    "    #     print(\"Net_value =\"+ str(net_value))\n",
    "    #     print(\"-------------------\")\n",
    "\n",
    "\n",
    "    print(\"Profit for a year plying with Supertrend:\"+ str(net_value))"
   ]
  },
  {
   "cell_type": "code",
   "execution_count": 31,
   "metadata": {},
   "outputs": [
    {
     "name": "stdout",
     "output_type": "stream",
     "text": [
      "Profit for a holding stock for a year:1799.25\n",
      "Profit for a year plying with Supertrend:4761.7490234375\n"
     ]
    }
   ],
   "source": [
    "PL_Cal(Nifty_Supertrend)"
   ]
  },
  {
   "cell_type": "code",
   "execution_count": 32,
   "metadata": {},
   "outputs": [
    {
     "name": "stdout",
     "output_type": "stream",
     "text": [
      "Profit for a holding stock for a year:-1179.798828125\n",
      "Profit for a year plying with Supertrend:11732.953125\n"
     ]
    }
   ],
   "source": [
    "PL_Cal(BankNifty_Supertrend)"
   ]
  },
  {
   "cell_type": "code",
   "execution_count": 33,
   "metadata": {},
   "outputs": [
    {
     "name": "stdout",
     "output_type": "stream",
     "text": [
      "Profit for a holding stock for a year:525.2900390625\n",
      "Profit for a year plying with Supertrend:1051.08984375\n"
     ]
    }
   ],
   "source": [
    "PL_Cal(SP500_Supertrend)"
   ]
  },
  {
   "cell_type": "code",
   "execution_count": 34,
   "metadata": {},
   "outputs": [
    {
     "name": "stdout",
     "output_type": "stream",
     "text": [
      "Profit for a holding stock for a year:3915.6806640625\n",
      "Profit for a year plying with Supertrend:3994.11962890625\n"
     ]
    }
   ],
   "source": [
    "PL_Cal(Nasdaq_Supertrend)"
   ]
  }
 ],
 "metadata": {
  "kernelspec": {
   "display_name": "Python 3",
   "language": "python",
   "name": "python3"
  },
  "language_info": {
   "codemirror_mode": {
    "name": "ipython",
    "version": 3
   },
   "file_extension": ".py",
   "mimetype": "text/x-python",
   "name": "python",
   "nbconvert_exporter": "python",
   "pygments_lexer": "ipython3",
   "version": "3.8.5"
  }
 },
 "nbformat": 4,
 "nbformat_minor": 4
}
